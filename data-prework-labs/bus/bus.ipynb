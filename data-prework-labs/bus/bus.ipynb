{
 "cells": [
  {
   "cell_type": "markdown",
   "metadata": {},
   "source": [
    "# Bus\n",
    "\n",
    "This bus has a passenger entry and exit control system to monitor the number of occupants it carries and thus detect when there is too high a capacity.\n",
    "\n",
    "At each stop the entry and exit of passengers is represented by a tuple consisting of two integer numbers.\n",
    "```\n",
    "bus_stop = (in, out)\n",
    "```\n",
    "The succession of stops is represented by a list of these tuples.\n",
    "```\n",
    "stops = [(in1, out1), (in2, out2), (in3, out3), (in4, out4)]\n",
    "```\n",
    "\n",
    "## Goals:\n",
    "* lists, tuples\n",
    "* while/for loops\n",
    "* minimum, maximum, length\n",
    "* average, standard deviation\n",
    "\n",
    "## Tasks\n",
    "1. Calculate the number of stops.\n",
    "2. Assign to a variable a list whose elements are the number of passengers at each stop (in-out),\n",
    "3. Find the maximum occupation of the bus.\n",
    "4. Calculate the average occupation. And the standard deviation.\n"
   ]
  },
  {
   "cell_type": "code",
   "execution_count": 34,
   "metadata": {},
   "outputs": [
    {
     "name": "stdout",
     "output_type": "stream",
     "text": [
      "There are 4 stops.\n",
      "[6]\n",
      "[6, 10]\n",
      "[6, 10, 13]\n",
      "[6, 10, 13, 16]\n",
      "The maximum occupation of the bus was 16 people.\n",
      "The average occupation of the bus was 11.25 people.\n",
      "3.6996621467371855\n",
      "3.6996621467371855\n"
     ]
    }
   ],
   "source": [
    "# variables\n",
    "\n",
    "stops = [(6, 0), (8, 4), (6, 3), (9, 6)]\n",
    "people_on_bus = 0\n",
    "people_on_bus_at_each_stop = []\n",
    "\n",
    "# 1. Calculate the number of stops.\n",
    "number_stops = len(stops)\n",
    "print(\"There are \" + str(number_stops) + \" stops.\")\n",
    "\n",
    "# 2. Assign a variable a list whose elements are the number of \n",
    "# passengers in each stop: \n",
    "# Each item depends on the previous item in the list + in - out.\n",
    "\n",
    "for stop in stops: #for each stop that's in the list\n",
    "    people_in = stop[0] #people in count from zero; it'll add up with loop\n",
    "    people_out = stop[1]\n",
    "    people_on_bus = people_on_bus + people_in - people_out\n",
    "    people_on_bus_at_each_stop.append(people_on_bus)\n",
    "    print(people_on_bus_at_each_stop)\n",
    "\n",
    "# 3. Find the maximum occupation of the bus.\n",
    "max_people_on_bus = max(people_on_bus_at_each_stop)\n",
    "print(\"The maximum occupation of the bus was \" + str(max_people_on_bus) + \" people.\")\n",
    "\n",
    "# 4. Calculate the average occupation. And the standard deviation.\n",
    "average_occupation = sum(people_on_bus_at_each_stop) / number_stops\n",
    "print(\"The average occupation of the bus was \" + str(average_occupation) + \" people.\")\n",
    "\n",
    "import math\n",
    "\n",
    "variance = sum([((x - average_occupation) ** 2) for x in people_on_bus_at_each_stop]) / number_stops\n",
    "stddev = math.sqrt(variance)\n",
    "print(stddev)\n",
    "\n",
    "# alternative with statistics library\n",
    "\n",
    "import statistics\n",
    "print(statistics.pstdev(people_on_bus_at_each_stop))\n",
    "\n"
   ]
  },
  {
   "cell_type": "code",
   "execution_count": null,
   "metadata": {},
   "outputs": [],
   "source": []
  }
 ],
 "metadata": {
  "kernelspec": {
   "display_name": "Python 3",
   "language": "python",
   "name": "python3"
  },
  "language_info": {
   "codemirror_mode": {
    "name": "ipython",
    "version": 3
   },
   "file_extension": ".py",
   "mimetype": "text/x-python",
   "name": "python",
   "nbconvert_exporter": "python",
   "pygments_lexer": "ipython3",
   "version": "3.7.4"
  }
 },
 "nbformat": 4,
 "nbformat_minor": 2
}
